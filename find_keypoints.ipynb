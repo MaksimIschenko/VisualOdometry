{
 "cells": [
  {
   "cell_type": "code",
   "execution_count": 3,
   "id": "initial_id",
   "metadata": {
    "collapsed": true,
    "ExecuteTime": {
     "end_time": "2024-03-26T07:03:37.595034Z",
     "start_time": "2024-03-26T07:03:37.572743Z"
    }
   },
   "outputs": [],
   "source": [
    "from src.utils import *\n",
    "\n",
    "imgs_path = ['media/office_0.jpg', 'media/office_1.jpg']\n",
    "imgs = []\n",
    "for path in imgs_path:\n",
    "    pre_scaled = read_image(path)\n",
    "    imgs.append(scale_image(pre_scaled, 75))"
   ]
  },
  {
   "cell_type": "code",
   "outputs": [
    {
     "name": "stdout",
     "output_type": "stream",
     "text": [
      "<class 'list'>\n"
     ]
    },
    {
     "data": {
      "text/plain": "[< cv2.DMatch 00000211E6C8F290>,\n < cv2.DMatch 00000211E6C8E2B0>,\n < cv2.DMatch 00000211E6C8EE70>,\n < cv2.DMatch 00000211E6C8F790>,\n < cv2.DMatch 00000211E6C8EB70>,\n < cv2.DMatch 00000211E6C8E210>,\n < cv2.DMatch 00000211E6C8DF10>,\n < cv2.DMatch 00000211E6C8DBB0>,\n < cv2.DMatch 00000211E6C8E730>,\n < cv2.DMatch 00000211E6C8D530>,\n < cv2.DMatch 00000211E6C8F750>,\n < cv2.DMatch 00000211E6C8DF70>,\n < cv2.DMatch 00000211E6C8DED0>,\n < cv2.DMatch 00000211E6C8D690>,\n < cv2.DMatch 00000211E6C8DE30>,\n < cv2.DMatch 00000211E6C8E670>,\n < cv2.DMatch 00000211E6C8F250>,\n < cv2.DMatch 00000211E6C8F2B0>,\n < cv2.DMatch 00000211E6C8D970>,\n < cv2.DMatch 00000211E6C8F010>,\n < cv2.DMatch 00000211E6C8F0D0>,\n < cv2.DMatch 00000211E6C8F350>,\n < cv2.DMatch 00000211E6C8F430>,\n < cv2.DMatch 00000211E6C8F550>,\n < cv2.DMatch 00000211E6C8F6F0>,\n < cv2.DMatch 00000211E6C8DA90>,\n < cv2.DMatch 00000211E6C8D8B0>,\n < cv2.DMatch 00000211E6C8E550>,\n < cv2.DMatch 00000211E6C8E930>,\n < cv2.DMatch 00000211E6C8F310>,\n < cv2.DMatch 00000211E6C8F530>,\n < cv2.DMatch 00000211E6C8F5B0>,\n < cv2.DMatch 00000211E6C8F6B0>,\n < cv2.DMatch 00000211E6C8E1B0>,\n < cv2.DMatch 00000211E6C8DAD0>,\n < cv2.DMatch 00000211E6C8D8D0>,\n < cv2.DMatch 00000211E6C8E910>,\n < cv2.DMatch 00000211E6C8EB30>,\n < cv2.DMatch 00000211E6C8EBD0>,\n < cv2.DMatch 00000211E6C8D830>,\n < cv2.DMatch 00000211E6C8E270>,\n < cv2.DMatch 00000211E6C8D7D0>,\n < cv2.DMatch 00000211E6C8E090>,\n < cv2.DMatch 00000211E6C8E7B0>,\n < cv2.DMatch 00000211E6C8F3F0>,\n < cv2.DMatch 00000211E6C8F610>,\n < cv2.DMatch 00000211E6C8F770>,\n < cv2.DMatch 00000211E6C8DF90>,\n < cv2.DMatch 00000211E6C8D990>,\n < cv2.DMatch 00000211E6C8D430>,\n < cv2.DMatch 00000211E6C8EA70>,\n < cv2.DMatch 00000211E6C8EAD0>,\n < cv2.DMatch 00000211E6C8EDB0>,\n < cv2.DMatch 00000211E6C8EE50>,\n < cv2.DMatch 00000211E6C8F090>,\n < cv2.DMatch 00000211E6C8F510>,\n < cv2.DMatch 00000211E6C8F830>,\n < cv2.DMatch 00000211E6C8F850>,\n < cv2.DMatch 00000211E6C8E3B0>,\n < cv2.DMatch 00000211E6C8DC50>,\n < cv2.DMatch 00000211E6C8E430>,\n < cv2.DMatch 00000211E6C8E810>,\n < cv2.DMatch 00000211E6C8E1D0>,\n < cv2.DMatch 00000211E6C8D770>,\n < cv2.DMatch 00000211E6C8DAB0>,\n < cv2.DMatch 00000211E6C8DA10>,\n < cv2.DMatch 00000211E6C8DDB0>,\n < cv2.DMatch 00000211E6C8D4F0>,\n < cv2.DMatch 00000211E6C8E6B0>,\n < cv2.DMatch 00000211E6C8E710>,\n < cv2.DMatch 00000211E6C8E8B0>,\n < cv2.DMatch 00000211E6C8EB10>,\n < cv2.DMatch 00000211E6C8ECF0>,\n < cv2.DMatch 00000211E6C8EFD0>,\n < cv2.DMatch 00000211E6C8F4D0>,\n < cv2.DMatch 00000211E6C8F5D0>,\n < cv2.DMatch 00000211E6C8DD10>,\n < cv2.DMatch 00000211E6C8DA50>,\n < cv2.DMatch 00000211E6C8E650>,\n < cv2.DMatch 00000211E6C8E510>,\n < cv2.DMatch 00000211E6C8E850>,\n < cv2.DMatch 00000211E6C8E970>,\n < cv2.DMatch 00000211E6C8E9B0>,\n < cv2.DMatch 00000211E6C8EA10>,\n < cv2.DMatch 00000211E6C8ED70>,\n < cv2.DMatch 00000211E6C8EE10>,\n < cv2.DMatch 00000211E6C8EEF0>,\n < cv2.DMatch 00000211E6C8F1F0>,\n < cv2.DMatch 00000211E6C8F590>,\n < cv2.DMatch 00000211E6C8F650>,\n < cv2.DMatch 00000211E6C8F6D0>,\n < cv2.DMatch 00000211E6C8F7B0>,\n < cv2.DMatch 00000211E6C8D7B0>,\n < cv2.DMatch 00000211E6C8DFF0>,\n < cv2.DMatch 00000211E6C8D790>,\n < cv2.DMatch 00000211E6C8DD50>,\n < cv2.DMatch 00000211E6C8DC30>,\n < cv2.DMatch 00000211E6C8DBF0>,\n < cv2.DMatch 00000211E6C8DB50>,\n < cv2.DMatch 00000211E6C8DA70>,\n < cv2.DMatch 00000211E6C8D610>,\n < cv2.DMatch 00000211E6C8E6D0>,\n < cv2.DMatch 00000211E6C8E7D0>,\n < cv2.DMatch 00000211E6C8E9D0>,\n < cv2.DMatch 00000211E6C8EDD0>,\n < cv2.DMatch 00000211E6C8F810>,\n < cv2.DMatch 00000211E6C8D390>,\n < cv2.DMatch 00000211E6C8DFB0>,\n < cv2.DMatch 00000211E6C8DBD0>,\n < cv2.DMatch 00000211E6C8E610>,\n < cv2.DMatch 00000211E6C8E5F0>,\n < cv2.DMatch 00000211E6C8EF90>,\n < cv2.DMatch 00000211E6C8F230>,\n < cv2.DMatch 00000211E6C8F4B0>,\n < cv2.DMatch 00000211E6C8F4F0>,\n < cv2.DMatch 00000211E6C8D6D0>,\n < cv2.DMatch 00000211E6C8DD70>,\n < cv2.DMatch 00000211E6C8D9B0>,\n < cv2.DMatch 00000211E6C8D5F0>,\n < cv2.DMatch 00000211E6C8E490>,\n < cv2.DMatch 00000211E6C8EC90>,\n < cv2.DMatch 00000211E6C8F210>,\n < cv2.DMatch 00000211E6C8F2F0>,\n < cv2.DMatch 00000211E6C8E250>,\n < cv2.DMatch 00000211E6C8DEB0>,\n < cv2.DMatch 00000211E6C8DCB0>,\n < cv2.DMatch 00000211E6C8D5D0>,\n < cv2.DMatch 00000211E6C8D570>,\n < cv2.DMatch 00000211E6C8E5B0>,\n < cv2.DMatch 00000211E6C8ECB0>,\n < cv2.DMatch 00000211E6C8EF30>,\n < cv2.DMatch 00000211E6C8EFB0>,\n < cv2.DMatch 00000211E6C8F1D0>,\n < cv2.DMatch 00000211E6C8F390>,\n < cv2.DMatch 00000211E6C8F630>,\n < cv2.DMatch 00000211E6C8D450>,\n < cv2.DMatch 00000211E6C8D9D0>,\n < cv2.DMatch 00000211E6C8D950>,\n < cv2.DMatch 00000211E6C8D8F0>,\n < cv2.DMatch 00000211E6C8E450>,\n < cv2.DMatch 00000211E6C8EAB0>,\n < cv2.DMatch 00000211E6C8F3B0>,\n < cv2.DMatch 00000211E6C8F450>,\n < cv2.DMatch 00000211E6C8D910>,\n < cv2.DMatch 00000211E6C8DE10>,\n < cv2.DMatch 00000211E6C8E4F0>,\n < cv2.DMatch 00000211E6C8E8D0>,\n < cv2.DMatch 00000211E6C8EB50>,\n < cv2.DMatch 00000211E6C8EED0>,\n < cv2.DMatch 00000211E6C8EF10>,\n < cv2.DMatch 00000211E6C8F0F0>,\n < cv2.DMatch 00000211E6C8F110>,\n < cv2.DMatch 00000211E6C8F2D0>,\n < cv2.DMatch 00000211E6C8E110>,\n < cv2.DMatch 00000211E6C8D5B0>,\n < cv2.DMatch 00000211E6C8DD30>,\n < cv2.DMatch 00000211E6C8DB90>,\n < cv2.DMatch 00000211E6C8D670>,\n < cv2.DMatch 00000211E6C8D630>,\n < cv2.DMatch 00000211E6C8DDF0>,\n < cv2.DMatch 00000211E6C8E630>,\n < cv2.DMatch 00000211E6C8EA90>,\n < cv2.DMatch 00000211E6C8ED30>,\n < cv2.DMatch 00000211E6C8F170>,\n < cv2.DMatch 00000211E6C8F670>,\n < cv2.DMatch 00000211E6C8D730>,\n < cv2.DMatch 00000211E6C8DB30>,\n < cv2.DMatch 00000211E6C8F3D0>,\n < cv2.DMatch 00000211E6C8E0D0>,\n < cv2.DMatch 00000211E6C8D590>,\n < cv2.DMatch 00000211E6C8D4B0>,\n < cv2.DMatch 00000211E6C8E590>,\n < cv2.DMatch 00000211E6C8E750>,\n < cv2.DMatch 00000211E6C8E790>,\n < cv2.DMatch 00000211E6C8EC50>,\n < cv2.DMatch 00000211E6C8ED10>,\n < cv2.DMatch 00000211E6C8ED90>,\n < cv2.DMatch 00000211E6C8E0F0>,\n < cv2.DMatch 00000211E6C8E030>,\n < cv2.DMatch 00000211E6C8E690>,\n < cv2.DMatch 00000211E6C8E410>,\n < cv2.DMatch 00000211E6C8E890>,\n < cv2.DMatch 00000211E6C8DE90>,\n < cv2.DMatch 00000211E6C8DB70>,\n < cv2.DMatch 00000211E6C8E6F0>,\n < cv2.DMatch 00000211E6C8EC70>,\n < cv2.DMatch 00000211E6C8F130>,\n < cv2.DMatch 00000211E6C8F410>,\n < cv2.DMatch 00000211E6C8E2D0>,\n < cv2.DMatch 00000211E6C8D870>,\n < cv2.DMatch 00000211E6C8E570>,\n < cv2.DMatch 00000211E6C8EC10>,\n < cv2.DMatch 00000211E6C8F050>,\n < cv2.DMatch 00000211E6C8DAF0>,\n < cv2.DMatch 00000211E6C8ECD0>,\n < cv2.DMatch 00000211E6C8E230>,\n < cv2.DMatch 00000211E6C8DB10>,\n < cv2.DMatch 00000211E6C8F0B0>,\n < cv2.DMatch 00000211E6C8F270>,\n < cv2.DMatch 00000211E6C8F370>,\n < cv2.DMatch 00000211E6C8E130>,\n < cv2.DMatch 00000211E6C8E2F0>,\n < cv2.DMatch 00000211E6C8DFD0>,\n < cv2.DMatch 00000211E6C8DF30>,\n < cv2.DMatch 00000211E6C8E470>,\n < cv2.DMatch 00000211E6C8EC30>,\n < cv2.DMatch 00000211E6C8DC70>,\n < cv2.DMatch 00000211E6C8D930>,\n < cv2.DMatch 00000211E6C8E5D0>,\n < cv2.DMatch 00000211E6C8E3F0>,\n < cv2.DMatch 00000211E6C8DEF0>,\n < cv2.DMatch 00000211E6C8E4B0>,\n < cv2.DMatch 00000211E6C8EDF0>,\n < cv2.DMatch 00000211E6C8EE90>,\n < cv2.DMatch 00000211E6C8EEB0>,\n < cv2.DMatch 00000211E6C8F070>,\n < cv2.DMatch 00000211E6C8D810>,\n < cv2.DMatch 00000211E6C8E530>,\n < cv2.DMatch 00000211E6C8EE30>,\n < cv2.DMatch 00000211E6C8F5F0>,\n < cv2.DMatch 00000211E6C8DE70>,\n < cv2.DMatch 00000211E6C8E770>,\n < cv2.DMatch 00000211E6C8F030>,\n < cv2.DMatch 00000211E6C8F870>,\n < cv2.DMatch 00000211E6C8EA30>,\n < cv2.DMatch 00000211E6C8F690>,\n < cv2.DMatch 00000211E6C8E7F0>,\n < cv2.DMatch 00000211E6C8E190>,\n < cv2.DMatch 00000211E6C8D7F0>,\n < cv2.DMatch 00000211E6C8EF70>,\n < cv2.DMatch 00000211E6C8F730>,\n < cv2.DMatch 00000211E6C8E990>,\n < cv2.DMatch 00000211E6C8F570>,\n < cv2.DMatch 00000211E6C8D750>,\n < cv2.DMatch 00000211E6C8D6F0>,\n < cv2.DMatch 00000211E6C8D650>,\n < cv2.DMatch 00000211E6C8E830>,\n < cv2.DMatch 00000211E6C8E050>,\n < cv2.DMatch 00000211E6C8F190>,\n < cv2.DMatch 00000211E6C8E0B0>,\n < cv2.DMatch 00000211E6C8DE50>,\n < cv2.DMatch 00000211E6C8D6B0>,\n < cv2.DMatch 00000211E6C8ED50>,\n < cv2.DMatch 00000211E6C8D890>,\n < cv2.DMatch 00000211E6C8EFF0>,\n < cv2.DMatch 00000211E6C8DC10>,\n < cv2.DMatch 00000211E6C8F330>,\n < cv2.DMatch 00000211E6C8DA30>,\n < cv2.DMatch 00000211E6C8F470>,\n < cv2.DMatch 00000211E6C8DF50>,\n < cv2.DMatch 00000211E6C8F7D0>,\n < cv2.DMatch 00000211E6C8D710>,\n < cv2.DMatch 00000211E6C8DC90>,\n < cv2.DMatch 00000211E6C8F7F0>,\n < cv2.DMatch 00000211E6C8D9F0>,\n < cv2.DMatch 00000211E6C8EA50>,\n < cv2.DMatch 00000211E6C8F150>,\n < cv2.DMatch 00000211E6C8F1B0>,\n < cv2.DMatch 00000211E6C8E9F0>,\n < cv2.DMatch 00000211E6C8EBB0>,\n < cv2.DMatch 00000211E6C8EBF0>,\n < cv2.DMatch 00000211E6C8DDD0>,\n < cv2.DMatch 00000211E6C8E010>,\n < cv2.DMatch 00000211E6C8DD90>,\n < cv2.DMatch 00000211E6C8E870>,\n < cv2.DMatch 00000211E6C8EB90>,\n < cv2.DMatch 00000211E6C8E1F0>,\n < cv2.DMatch 00000211E6C8DCD0>,\n < cv2.DMatch 00000211E6C8E4D0>,\n < cv2.DMatch 00000211E6C8F490>,\n < cv2.DMatch 00000211E6C8DCF0>,\n < cv2.DMatch 00000211E6C8EAF0>,\n < cv2.DMatch 00000211E6C8E3D0>,\n < cv2.DMatch 00000211E6C8E8F0>,\n < cv2.DMatch 00000211E6C8E950>,\n < cv2.DMatch 00000211E6C8F710>,\n < cv2.DMatch 00000211E6C8E070>,\n < cv2.DMatch 00000211E6C8EF50>]"
     },
     "execution_count": 4,
     "metadata": {},
     "output_type": "execute_result"
    }
   ],
   "source": [
    "from src.visual_odometry import *\n",
    "\n",
    "keypoints_arr = []\n",
    "descriptions_arr = []\n",
    "for img in imgs:\n",
    "    keypoints, descriptions = find_keypoints_and_descriptors(img)\n",
    "    keypoints_arr.append(keypoints)\n",
    "    descriptions_arr.append(descriptions)\n",
    "    \n",
    "matches = match_keypoints(descriptions_arr[0], descriptions_arr[1])\n",
    "print(type(matches))\n",
    "matches"
   ],
   "metadata": {
    "collapsed": false,
    "ExecuteTime": {
     "end_time": "2024-03-26T07:03:38.703030Z",
     "start_time": "2024-03-26T07:03:38.541757Z"
    }
   },
   "id": "152bd9aa3ee966df",
   "execution_count": 4
  },
  {
   "cell_type": "code",
   "outputs": [
    {
     "data": {
      "text/plain": "array([[967.84086493,   0.        , 487.61261895],\n       [  0.        , 975.75815809, 642.06203835],\n       [  0.        ,   0.        ,   1.        ]])"
     },
     "execution_count": 5,
     "metadata": {},
     "output_type": "execute_result"
    }
   ],
   "source": [
    "import json\n",
    "import numpy as np\n",
    "\n",
    "with open('./src/camera_matrix.json', 'r') as f:\n",
    "    params = json.load(f)\n",
    "\n",
    "# Формирование массива на основе значений из словаря\n",
    "camera_matrix = np.array([\n",
    "    [params['f_x'], 0, params['c_x']],\n",
    "    [0, params['f_y'], params['c_y']],\n",
    "    [0, 0, 1]\n",
    "])\n",
    "\n",
    "camera_matrix"
   ],
   "metadata": {
    "collapsed": false,
    "ExecuteTime": {
     "end_time": "2024-03-26T07:03:40.295727Z",
     "start_time": "2024-03-26T07:03:40.285243Z"
    }
   },
   "id": "c3057eefaf6331b8",
   "execution_count": 5
  },
  {
   "cell_type": "code",
   "outputs": [
    {
     "ename": "NameError",
     "evalue": "name 'keypoints_arr' is not defined",
     "output_type": "error",
     "traceback": [
      "\u001B[1;31m---------------------------------------------------------------------------\u001B[0m",
      "\u001B[1;31mNameError\u001B[0m                                 Traceback (most recent call last)",
      "Cell \u001B[1;32mIn[1], line 1\u001B[0m\n\u001B[1;32m----> 1\u001B[0m \u001B[43mkeypoints_arr\u001B[49m[\u001B[38;5;241m0\u001B[39m]\n\u001B[0;32m      2\u001B[0m \u001B[38;5;66;03m#oints1 = np.float32([keypoints_arr[0][m.queryIdx].pt for m in matches]).reshape(-1, 2)\u001B[39;00m\n\u001B[0;32m      3\u001B[0m \u001B[38;5;66;03m#oints1\u001B[39;00m\n",
      "\u001B[1;31mNameError\u001B[0m: name 'keypoints_arr' is not defined"
     ]
    }
   ],
   "source": [
    "keypoints_arr[0]\n",
    "#oints1 = np.float32([keypoints_arr[0][m.queryIdx].pt for m in matches]).reshape(-1, 2)\n",
    "#oints1"
   ],
   "metadata": {
    "collapsed": false,
    "ExecuteTime": {
     "end_time": "2024-03-26T07:03:29.368621Z",
     "start_time": "2024-03-26T07:03:29.186302Z"
    }
   },
   "id": "12a8b6cb0e128836",
   "execution_count": 1
  },
  {
   "cell_type": "code",
   "outputs": [
    {
     "ename": "error",
     "evalue": "OpenCV(4.9.0) D:\\a\\opencv-python\\opencv-python\\opencv\\modules\\calib3d\\src\\solvepnp.cpp:227: error: (-215:Assertion failed) npoints >= 4 && npoints == std::max(ipoints.checkVector(2, CV_32F), ipoints.checkVector(2, CV_64F)) in function 'cv::solvePnPRansac'\n",
     "output_type": "error",
     "traceback": [
      "\u001B[1;31m---------------------------------------------------------------------------\u001B[0m",
      "\u001B[1;31merror\u001B[0m                                     Traceback (most recent call last)",
      "Cell \u001B[1;32mIn[5], line 1\u001B[0m\n\u001B[1;32m----> 1\u001B[0m rvec, tvec, inliers \u001B[38;5;241m=\u001B[39m \u001B[43mestimate_motion\u001B[49m\u001B[43m(\u001B[49m\u001B[43mmatches\u001B[49m\u001B[43m,\u001B[49m\u001B[43m \u001B[49m\u001B[43mkeypoints_arr\u001B[49m\u001B[43m[\u001B[49m\u001B[38;5;241;43m0\u001B[39;49m\u001B[43m]\u001B[49m\u001B[43m,\u001B[49m\u001B[43m \u001B[49m\u001B[43mkeypoints_arr\u001B[49m\u001B[43m[\u001B[49m\u001B[38;5;241;43m1\u001B[39;49m\u001B[43m]\u001B[49m\u001B[43m,\u001B[49m\u001B[43m \u001B[49m\u001B[43mcamera_matrix\u001B[49m\u001B[43m)\u001B[49m\n\u001B[0;32m      2\u001B[0m \u001B[38;5;28mprint\u001B[39m(rvec)\n\u001B[0;32m      3\u001B[0m \u001B[38;5;28mprint\u001B[39m(tvec)\n",
      "File \u001B[1;32m~\\OneDrive\\Документы\\RMTeam\\VisualOdometry\\src\\visual_odometry.py:68\u001B[0m, in \u001B[0;36mestimate_motion\u001B[1;34m(matches, keypoints1, keypoints2, camera_matrix)\u001B[0m\n\u001B[0;32m     65\u001B[0m points2 \u001B[38;5;241m=\u001B[39m np\u001B[38;5;241m.\u001B[39mfloat32([keypoints2[m\u001B[38;5;241m.\u001B[39mtrainIdx]\u001B[38;5;241m.\u001B[39mpt \u001B[38;5;28;01mfor\u001B[39;00m m \u001B[38;5;129;01min\u001B[39;00m matches])\n\u001B[0;32m     67\u001B[0m \u001B[38;5;66;03m# Оценка вращения и смещения между кадрами\u001B[39;00m\n\u001B[1;32m---> 68\u001B[0m _, rvec, tvec, inliers \u001B[38;5;241m=\u001B[39m \u001B[43mcv2\u001B[49m\u001B[38;5;241;43m.\u001B[39;49m\u001B[43msolvePnPRansac\u001B[49m\u001B[43m(\u001B[49m\u001B[43mpoints1\u001B[49m\u001B[43m,\u001B[49m\u001B[43m \u001B[49m\u001B[43mpoints2\u001B[49m\u001B[43m,\u001B[49m\u001B[43m \u001B[49m\u001B[43mcamera_matrix\u001B[49m\u001B[43m,\u001B[49m\u001B[43m \u001B[49m\u001B[38;5;28;43;01mNone\u001B[39;49;00m\u001B[43m)\u001B[49m\n\u001B[0;32m     70\u001B[0m \u001B[38;5;28;01mreturn\u001B[39;00m rvec, tvec\n",
      "\u001B[1;31merror\u001B[0m: OpenCV(4.9.0) D:\\a\\opencv-python\\opencv-python\\opencv\\modules\\calib3d\\src\\solvepnp.cpp:227: error: (-215:Assertion failed) npoints >= 4 && npoints == std::max(ipoints.checkVector(2, CV_32F), ipoints.checkVector(2, CV_64F)) in function 'cv::solvePnPRansac'\n"
     ]
    }
   ],
   "source": [
    "rvec, tvec, inliers = estimate_motion(matches, keypoints_arr[0], keypoints_arr[1], camera_matrix)\n",
    "print(rvec)\n",
    "print(tvec)\n",
    "print(inliers)"
   ],
   "metadata": {
    "collapsed": false,
    "ExecuteTime": {
     "end_time": "2024-03-25T11:28:38.980534Z",
     "start_time": "2024-03-25T11:28:38.448501Z"
    }
   },
   "id": "5446a6e156123fe4",
   "execution_count": 5
  }
 ],
 "metadata": {
  "kernelspec": {
   "display_name": "Python 3",
   "language": "python",
   "name": "python3"
  },
  "language_info": {
   "codemirror_mode": {
    "name": "ipython",
    "version": 2
   },
   "file_extension": ".py",
   "mimetype": "text/x-python",
   "name": "python",
   "nbconvert_exporter": "python",
   "pygments_lexer": "ipython2",
   "version": "2.7.6"
  }
 },
 "nbformat": 4,
 "nbformat_minor": 5
}
