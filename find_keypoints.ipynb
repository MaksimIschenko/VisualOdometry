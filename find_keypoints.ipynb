{
 "cells": [
  {
   "cell_type": "code",
   "execution_count": 1,
   "id": "initial_id",
   "metadata": {
    "collapsed": true,
    "ExecuteTime": {
     "end_time": "2024-03-25T11:28:26.427124Z",
     "start_time": "2024-03-25T11:28:26.291524Z"
    }
   },
   "outputs": [],
   "source": [
    "from src.utils import *\n",
    "\n",
    "imgs_path = ['media/office_0.jpg', 'media/office_1.jpg']\n",
    "imgs = []\n",
    "for path in imgs_path:\n",
    "    pre_scaled = read_image(path)\n",
    "    imgs.append(scale_image(pre_scaled, 75))"
   ]
  },
  {
   "cell_type": "code",
   "outputs": [
    {
     "name": "stdout",
     "output_type": "stream",
     "text": [
      "<class 'list'>\n"
     ]
    },
    {
     "data": {
      "text/plain": "[< cv2.DMatch 0000023B9F069BB0>,\n < cv2.DMatch 0000023B9F06B090>,\n < cv2.DMatch 0000023B9F068830>,\n < cv2.DMatch 0000023B9F069070>,\n < cv2.DMatch 0000023B9F0698F0>,\n < cv2.DMatch 0000023B9F06BEB0>,\n < cv2.DMatch 0000023B9F06B610>,\n < cv2.DMatch 0000023B9F06BC90>,\n < cv2.DMatch 0000023B9F069470>,\n < cv2.DMatch 0000023B9F06B750>,\n < cv2.DMatch 0000023B9F06A3F0>,\n < cv2.DMatch 0000023B9F06B5B0>,\n < cv2.DMatch 0000023B9F06AF10>,\n < cv2.DMatch 0000023B9F06BDB0>,\n < cv2.DMatch 0000023B9F06BBF0>,\n < cv2.DMatch 0000023B9F06B2B0>,\n < cv2.DMatch 0000023B9F069350>,\n < cv2.DMatch 0000023B9F069310>,\n < cv2.DMatch 0000023B9F06AB30>,\n < cv2.DMatch 0000023B9F0697F0>,\n < cv2.DMatch 0000023B9F0698B0>,\n < cv2.DMatch 0000023B9F069EF0>,\n < cv2.DMatch 0000023B9F0687F0>,\n < cv2.DMatch 0000023B9F069190>,\n < cv2.DMatch 0000023B9F0690D0>,\n < cv2.DMatch 0000023B9F06BE30>,\n < cv2.DMatch 0000023B9F06B3F0>,\n < cv2.DMatch 0000023B9F06B190>,\n < cv2.DMatch 0000023B9F06A450>,\n < cv2.DMatch 0000023B9F0692B0>,\n < cv2.DMatch 0000023B9F0687D0>,\n < cv2.DMatch 0000023B9F069150>,\n < cv2.DMatch 0000023B9F069A90>,\n < cv2.DMatch 0000023B9F069810>,\n < cv2.DMatch 0000023B9F06AEF0>,\n < cv2.DMatch 0000023B9F0686F0>,\n < cv2.DMatch 0000023B9F069970>,\n < cv2.DMatch 0000023B9F0693B0>,\n < cv2.DMatch 0000023B9F069FB0>,\n < cv2.DMatch 0000023B9F06BA30>,\n < cv2.DMatch 0000023B9F06B430>,\n < cv2.DMatch 0000023B9F06B970>,\n < cv2.DMatch 0000023B9F06AF90>,\n < cv2.DMatch 0000023B9F06A770>,\n < cv2.DMatch 0000023B9F0690F0>,\n < cv2.DMatch 0000023B9F069870>,\n < cv2.DMatch 0000023B9F069D30>,\n < cv2.DMatch 0000023B9F06B2D0>,\n < cv2.DMatch 0000023B9F06B390>,\n < cv2.DMatch 0000023B9F06B730>,\n < cv2.DMatch 0000023B9F068BB0>,\n < cv2.DMatch 0000023B9F069410>,\n < cv2.DMatch 0000023B9F069650>,\n < cv2.DMatch 0000023B9F069610>,\n < cv2.DMatch 0000023B9F0684B0>,\n < cv2.DMatch 0000023B9F0691B0>,\n < cv2.DMatch 0000023B9F069030>,\n < cv2.DMatch 0000023B9F069A30>,\n < cv2.DMatch 0000023B9F06B530>,\n < cv2.DMatch 0000023B9F06BFB0>,\n < cv2.DMatch 0000023B9F06A7F0>,\n < cv2.DMatch 0000023B9F068550>,\n < cv2.DMatch 0000023B9F06B810>,\n < cv2.DMatch 0000023B9F06B330>,\n < cv2.DMatch 0000023B9F06BCF0>,\n < cv2.DMatch 0000023B9F06B370>,\n < cv2.DMatch 0000023B9F06BB10>,\n < cv2.DMatch 0000023B9F06B770>,\n < cv2.DMatch 0000023B9F068490>,\n < cv2.DMatch 0000023B9F069490>,\n < cv2.DMatch 0000023B9F068590>,\n < cv2.DMatch 0000023B9F0693D0>,\n < cv2.DMatch 0000023B9F068110>,\n < cv2.DMatch 0000023B9F069550>,\n < cv2.DMatch 0000023B9F0691F0>,\n < cv2.DMatch 0000023B9F069130>,\n < cv2.DMatch 0000023B9F06BCD0>,\n < cv2.DMatch 0000023B9F06B9B0>,\n < cv2.DMatch 0000023B9F06B290>,\n < cv2.DMatch 0000023B9F06A7D0>,\n < cv2.DMatch 0000023B9F069F50>,\n < cv2.DMatch 0000023B9F069770>,\n < cv2.DMatch 0000023B9F069730>,\n < cv2.DMatch 0000023B9F068510>,\n < cv2.DMatch 0000023B9F068A50>,\n < cv2.DMatch 0000023B9F0684F0>,\n < cv2.DMatch 0000023B9F0695B0>,\n < cv2.DMatch 0000023B9F068450>,\n < cv2.DMatch 0000023B9F069170>,\n < cv2.DMatch 0000023B9F068FF0>,\n < cv2.DMatch 0000023B9F0683D0>,\n < cv2.DMatch 0000023B9F0683B0>,\n < cv2.DMatch 0000023B9F06B950>,\n < cv2.DMatch 0000023B9F06B510>,\n < cv2.DMatch 0000023B9F0685D0>,\n < cv2.DMatch 0000023B9F06AFB0>,\n < cv2.DMatch 0000023B9F06BD50>,\n < cv2.DMatch 0000023B9F06BE70>,\n < cv2.DMatch 0000023B9F06BDD0>,\n < cv2.DMatch 0000023B9F06AAB0>,\n < cv2.DMatch 0000023B9F06B870>,\n < cv2.DMatch 0000023B9F0694D0>,\n < cv2.DMatch 0000023B9F068570>,\n < cv2.DMatch 0000023B9F069710>,\n < cv2.DMatch 0000023B9F069630>,\n < cv2.DMatch 0000023B9F069050>,\n < cv2.DMatch 0000023B9F06B590>,\n < cv2.DMatch 0000023B9F06B350>,\n < cv2.DMatch 0000023B9F06B450>,\n < cv2.DMatch 0000023B9F06B250>,\n < cv2.DMatch 0000023B9F06B230>,\n < cv2.DMatch 0000023B9F0680F0>,\n < cv2.DMatch 0000023B9F06AA30>,\n < cv2.DMatch 0000023B9F069210>,\n < cv2.DMatch 0000023B9F0691D0>,\n < cv2.DMatch 0000023B9F06BE90>,\n < cv2.DMatch 0000023B9F06AFF0>,\n < cv2.DMatch 0000023B9F06AB10>,\n < cv2.DMatch 0000023B9F06B850>,\n < cv2.DMatch 0000023B9F06B110>,\n < cv2.DMatch 0000023B9F068870>,\n < cv2.DMatch 0000023B9F06A410>,\n < cv2.DMatch 0000023B9F0692D0>,\n < cv2.DMatch 0000023B9F06B4D0>,\n < cv2.DMatch 0000023B9F0699F0>,\n < cv2.DMatch 0000023B9F06BC50>,\n < cv2.DMatch 0000023B9F06B830>,\n < cv2.DMatch 0000023B9F06B7B0>,\n < cv2.DMatch 0000023B9F06B1F0>,\n < cv2.DMatch 0000023B9F0685B0>,\n < cv2.DMatch 0000023B9F068710>,\n < cv2.DMatch 0000023B9F06A430>,\n < cv2.DMatch 0000023B9F068470>,\n < cv2.DMatch 0000023B9F0688B0>,\n < cv2.DMatch 0000023B9F069010>,\n < cv2.DMatch 0000023B9F06BD90>,\n < cv2.DMatch 0000023B9F06B9F0>,\n < cv2.DMatch 0000023B9F06BAB0>,\n < cv2.DMatch 0000023B9F06AAD0>,\n < cv2.DMatch 0000023B9F06B0D0>,\n < cv2.DMatch 0000023B9F069430>,\n < cv2.DMatch 0000023B9F0698D0>,\n < cv2.DMatch 0000023B9F0687B0>,\n < cv2.DMatch 0000023B9F06B3D0>,\n < cv2.DMatch 0000023B9F06BC70>,\n < cv2.DMatch 0000023B9F06B170>,\n < cv2.DMatch 0000023B9F0697D0>,\n < cv2.DMatch 0000023B9F069C30>,\n < cv2.DMatch 0000023B9F0695D0>,\n < cv2.DMatch 0000023B9F069590>,\n < cv2.DMatch 0000023B9F069270>,\n < cv2.DMatch 0000023B9F068430>,\n < cv2.DMatch 0000023B9F0692F0>,\n < cv2.DMatch 0000023B9F06BF50>,\n < cv2.DMatch 0000023B9F06B070>,\n < cv2.DMatch 0000023B9F068670>,\n < cv2.DMatch 0000023B9F06BCB0>,\n < cv2.DMatch 0000023B9F06B8D0>,\n < cv2.DMatch 0000023B9F06B890>,\n < cv2.DMatch 0000023B9F06BB50>,\n < cv2.DMatch 0000023B9F06B270>,\n < cv2.DMatch 0000023B9F068C10>,\n < cv2.DMatch 0000023B9F0696B0>,\n < cv2.DMatch 0000023B9F069B70>,\n < cv2.DMatch 0000023B9F068370>,\n < cv2.DMatch 0000023B9F06B5F0>,\n < cv2.DMatch 0000023B9F06BF70>,\n < cv2.DMatch 0000023B9F069110>,\n < cv2.DMatch 0000023B9F06BF10>,\n < cv2.DMatch 0000023B9F06B7F0>,\n < cv2.DMatch 0000023B9F06B7D0>,\n < cv2.DMatch 0000023B9F06B1D0>,\n < cv2.DMatch 0000023B9F069450>,\n < cv2.DMatch 0000023B9F06A790>,\n < cv2.DMatch 0000023B9F069990>,\n < cv2.DMatch 0000023B9F0696D0>,\n < cv2.DMatch 0000023B9F069670>,\n < cv2.DMatch 0000023B9F06BD10>,\n < cv2.DMatch 0000023B9F06BC30>,\n < cv2.DMatch 0000023B9F06A010>,\n < cv2.DMatch 0000023B9F06A810>,\n < cv2.DMatch 0000023B9F069F30>,\n < cv2.DMatch 0000023B9F06B630>,\n < cv2.DMatch 0000023B9F06A570>,\n < cv2.DMatch 0000023B9F0694B0>,\n < cv2.DMatch 0000023B9F069C50>,\n < cv2.DMatch 0000023B9F068410>,\n < cv2.DMatch 0000023B9F0683F0>,\n < cv2.DMatch 0000023B9F06B490>,\n < cv2.DMatch 0000023B9F06BC10>,\n < cv2.DMatch 0000023B9F06B1B0>,\n < cv2.DMatch 0000023B9F069C70>,\n < cv2.DMatch 0000023B9F069510>,\n < cv2.DMatch 0000023B9F06BE10>,\n < cv2.DMatch 0000023B9F068930>,\n < cv2.DMatch 0000023B9F06AF70>,\n < cv2.DMatch 0000023B9F06BDF0>,\n < cv2.DMatch 0000023B9F0688F0>,\n < cv2.DMatch 0000023B9F069330>,\n < cv2.DMatch 0000023B9F069290>,\n < cv2.DMatch 0000023B9F06A330>,\n < cv2.DMatch 0000023B9F0699B0>,\n < cv2.DMatch 0000023B9F06B790>,\n < cv2.DMatch 0000023B9F068050>,\n < cv2.DMatch 0000023B9F06B0F0>,\n < cv2.DMatch 0000023B9F068890>,\n < cv2.DMatch 0000023B9F06B910>,\n < cv2.DMatch 0000023B9F06B3B0>,\n < cv2.DMatch 0000023B9F06B210>,\n < cv2.DMatch 0000023B9F06BBD0>,\n < cv2.DMatch 0000023B9F06AA50>,\n < cv2.DMatch 0000023B9F06B130>,\n < cv2.DMatch 0000023B9F069930>,\n < cv2.DMatch 0000023B9F068850>,\n < cv2.DMatch 0000023B9F0695F0>,\n < cv2.DMatch 0000023B9F0694F0>,\n < cv2.DMatch 0000023B9F06B0B0>,\n < cv2.DMatch 0000023B9F06A7B0>,\n < cv2.DMatch 0000023B9F0684D0>,\n < cv2.DMatch 0000023B9F069890>,\n < cv2.DMatch 0000023B9F06B650>,\n < cv2.DMatch 0000023B9F069DB0>,\n < cv2.DMatch 0000023B9F069FD0>,\n < cv2.DMatch 0000023B9F069A10>,\n < cv2.DMatch 0000023B9F0696F0>,\n < cv2.DMatch 0000023B9F069A70>,\n < cv2.DMatch 0000023B9F06A490>,\n < cv2.DMatch 0000023B9F06BA90>,\n < cv2.DMatch 0000023B9F06B930>,\n < cv2.DMatch 0000023B9F069570>,\n < cv2.DMatch 0000023B9F069090>,\n < cv2.DMatch 0000023B9F069750>,\n < cv2.DMatch 0000023B9F06A9F0>,\n < cv2.DMatch 0000023B9F06B5D0>,\n < cv2.DMatch 0000023B9F06B690>,\n < cv2.DMatch 0000023B9F06B8B0>,\n < cv2.DMatch 0000023B9F069790>,\n < cv2.DMatch 0000023B9F06B6D0>,\n < cv2.DMatch 0000023B9F069390>,\n < cv2.DMatch 0000023B9F06BF30>,\n < cv2.DMatch 0000023B9F06B670>,\n < cv2.DMatch 0000023B9F06BBB0>,\n < cv2.DMatch 0000023B9F069690>,\n < cv2.DMatch 0000023B9F06B570>,\n < cv2.DMatch 0000023B9F069530>,\n < cv2.DMatch 0000023B9F06BD70>,\n < cv2.DMatch 0000023B9F06AA10>,\n < cv2.DMatch 0000023B9F06AED0>,\n < cv2.DMatch 0000023B9F069250>,\n < cv2.DMatch 0000023B9F068190>,\n < cv2.DMatch 0000023B9F069A50>,\n < cv2.DMatch 0000023B9F069F70>,\n < cv2.DMatch 0000023B9F06B8F0>,\n < cv2.DMatch 0000023B9F068390>,\n < cv2.DMatch 0000023B9F06AA90>,\n < cv2.DMatch 0000023B9F0699D0>,\n < cv2.DMatch 0000023B9F069B90>,\n < cv2.DMatch 0000023B9F069370>,\n < cv2.DMatch 0000023B9F068530>,\n < cv2.DMatch 0000023B9F069950>,\n < cv2.DMatch 0000023B9F069C90>,\n < cv2.DMatch 0000023B9F06B9D0>,\n < cv2.DMatch 0000023B9F06AA70>,\n < cv2.DMatch 0000023B9F06AFD0>,\n < cv2.DMatch 0000023B9F06A750>,\n < cv2.DMatch 0000023B9F069CB0>,\n < cv2.DMatch 0000023B9F06B4F0>,\n < cv2.DMatch 0000023B9F06BEF0>,\n < cv2.DMatch 0000023B9F06B150>,\n < cv2.DMatch 0000023B9F069230>,\n < cv2.DMatch 0000023B9F06BB90>,\n < cv2.DMatch 0000023B9F0693F0>,\n < cv2.DMatch 0000023B9F06B550>,\n < cv2.DMatch 0000023B9F0697B0>,\n < cv2.DMatch 0000023B9F06A2B0>,\n < cv2.DMatch 0000023B9F0690B0>,\n < cv2.DMatch 0000023B9F06B6B0>,\n < cv2.DMatch 0000023B9F069F90>]"
     },
     "execution_count": 2,
     "metadata": {},
     "output_type": "execute_result"
    }
   ],
   "source": [
    "from src.visual_odometry import *\n",
    "\n",
    "keypoints_arr = []\n",
    "descriptions_arr = []\n",
    "for img in imgs:\n",
    "    keypoints, descriptions = find_keypoints_and_descriptors(img)\n",
    "    keypoints_arr.append(keypoints)\n",
    "    descriptions_arr.append(descriptions)\n",
    "    \n",
    "matches = match_keypoints(descriptions_arr[0], descriptions_arr[1])\n",
    "print(type(matches))\n",
    "matches"
   ],
   "metadata": {
    "collapsed": false,
    "ExecuteTime": {
     "end_time": "2024-03-25T11:28:28.502718Z",
     "start_time": "2024-03-25T11:28:28.344319Z"
    }
   },
   "id": "152bd9aa3ee966df",
   "execution_count": 2
  },
  {
   "cell_type": "code",
   "outputs": [
    {
     "data": {
      "text/plain": "array([[967.84086493,   0.        , 487.61261895],\n       [  0.        , 975.75815809, 642.06203835],\n       [  0.        ,   0.        ,   1.        ]])"
     },
     "execution_count": 3,
     "metadata": {},
     "output_type": "execute_result"
    }
   ],
   "source": [
    "import json\n",
    "import numpy as np\n",
    "\n",
    "with open('./src/camera_matrix.json', 'r') as f:\n",
    "    params = json.load(f)\n",
    "\n",
    "# Формирование массива на основе значений из словаря\n",
    "camera_matrix = np.array([\n",
    "    [params['f_x'], 0, params['c_x']],\n",
    "    [0, params['f_y'], params['c_y']],\n",
    "    [0, 0, 1]\n",
    "])\n",
    "\n",
    "camera_matrix"
   ],
   "metadata": {
    "collapsed": false,
    "ExecuteTime": {
     "end_time": "2024-03-25T11:28:30.991266Z",
     "start_time": "2024-03-25T11:28:30.986631Z"
    }
   },
   "id": "c3057eefaf6331b8",
   "execution_count": 3
  },
  {
   "cell_type": "code",
   "outputs": [
    {
     "data": {
      "text/plain": "array([[420.52618, 330.94662],\n       [555.     , 256.     ],\n       [416.79367, 242.61124],\n       [415.6491 , 214.9909 ],\n       [350.78403, 290.30402],\n       [414.     , 214.     ],\n       [258.     , 241.     ],\n       [414.00003, 213.6    ],\n       [433.44   , 322.56   ],\n       [435.6    , 259.2    ],\n       [415.6491 , 329.65274],\n       [427.     , 323.     ],\n       [442.     , 313.     ],\n       [408.00003, 261.6    ],\n       [421.2    , 260.40002],\n       [416.16   , 243.36002],\n       [432.96777, 320.99335],\n       [418.03787, 258.78534],\n       [350.40002, 289.2    ],\n       [423.01447, 329.70245],\n       [427.16165, 323.48166],\n       [579.7787 , 216.48389],\n       [418.03787, 256.79468],\n       [415.05188, 214.9909 ],\n       [343.98547, 225.74046],\n       [412.80002, 240.00002],\n       [247.20001, 327.6    ],\n       [227.52   , 347.04   ],\n       [420.48   , 345.6    ],\n       [457.85098, 248.83206],\n       [432.9678 , 319.50037],\n       [447.8977 , 247.83673],\n       [415.6491 , 254.40591],\n       [186.     , 309.     ],\n       [433.2    , 322.80002],\n       [258.     , 241.20001],\n       [560.16003, 211.68001],\n       [412.99203, 238.46402],\n       [352.51202, 222.91202],\n       [350.     , 290.     ],\n       [380.     , 298.     ],\n       [436.     , 259.     ],\n       [445.     , 287.     ],\n       [247.68001, 326.88   ],\n       [447.8977 , 246.34373],\n       [456.85568, 247.83673],\n       [426.39865, 326.06955],\n       [676.     , 390.     ],\n       [376.80002, 271.2    ],\n       [413.28003, 239.04001],\n       [578.88007, 252.28802],\n       [416.44803, 243.64803],\n       [559.8721 , 210.81602],\n       [559.8721 , 209.43362],\n       [350.43845, 288.23044],\n       [352.3462 , 223.94885],\n       [351.15182, 286.65454],\n       [257.9891 , 243.65637],\n       [581.     , 396.     ],\n       [404.40002, 264.     ],\n       [388.80002, 279.36002],\n       [597.60004, 367.2    ],\n       [379.     , 280.     ],\n       [387.     , 280.     ],\n       [379.2    , 267.6    ],\n       [427.2    , 324.     ],\n       [559.2    , 212.40001],\n       [581.76   , 214.56001],\n       [420.48   , 259.2    ],\n       [224.64001, 347.04   ],\n       [351.36002, 290.88   ],\n       [426.81604, 323.13602],\n       [416.44803, 212.54402],\n       [414.72006, 215.65443],\n       [418.03787, 331.4443 ],\n       [259.78067, 241.86478],\n       [347.     , 327.     ],\n       [192.     , 346.80002],\n       [385.92   , 257.76   ],\n       [374.40002, 276.48   ],\n       [388.80002, 260.64   ],\n       [506.88   , 257.76   ],\n       [348.48   , 328.32   ],\n       [259.2    , 240.19202],\n       [597.88806, 402.62402],\n       [407.80804, 260.92804],\n       [418.86725, 259.20004],\n       [425.5028 , 325.97   ],\n       [238.87878, 295.6125 ],\n       [543.4492 , 229.92084],\n       [440.73135, 261.57227],\n       [243.65637, 286.65454],\n       [407.     , 261.     ],\n       [417.     , 243.     ],\n       [387.     , 269.     ],\n       [349.     , 329.     ],\n       [441.6    , 313.2    ],\n       [212.40001, 340.80002],\n       [607.2    , 256.80002],\n       [182.40001, 290.40002],\n       [596.4    , 337.2    ],\n       [436.32   , 259.2    ],\n       [580.32   , 253.44   ],\n       [257.76   , 240.48001],\n       [226.36803, 345.60004],\n       [447.89774, 247.23955],\n       [388.     , 282.     ],\n       [655.     , 393.     ],\n       [580.80005, 213.6    ],\n       [581.76   , 396.00003],\n       [655.2    , 394.56003],\n       [259.20004, 240.53763],\n       [577.2904 , 251.32037],\n       [340.40228, 223.94885],\n       [576.29504, 250.82272],\n       [506.     , 260.     ],\n       [506.     , 256.     ],\n       [580.80005, 396.00003],\n       [388.80002, 282.     ],\n       [214.56001, 352.80002],\n       [388.80005, 260.92804],\n       [385.6897 , 256.29703],\n       [340.89993, 223.94885],\n       [581.     , 254.     ],\n       [377.     , 271.     ],\n       [196.     , 346.     ],\n       [608.4    , 168.     ],\n       [596.16003, 257.76   ],\n       [380.16   , 279.36002],\n       [191.80801, 343.87204],\n       [580.6081 , 215.65443],\n       [340.07043, 223.94884],\n       [544.9422 , 228.92549],\n       [238.87878, 293.62183],\n       [579.28107, 214.9909 ],\n       [609.     , 168.     ],\n       [416.40002, 243.6    ],\n       [597.60004, 366.     ],\n       [654.     , 393.6    ],\n       [404.64   , 263.52002],\n       [340.41605, 224.64001],\n       [243.85542, 288.6452 ],\n       [352.3462 , 286.65454],\n       [596.4    , 258.     ],\n       [184.8    , 308.40002],\n       [577.44   , 216.00002],\n       [338.40002, 224.64001],\n       [245.37602, 290.30402],\n       [433.38245, 321.40805],\n       [578.5345 , 252.97923],\n       [215.65443, 352.51205],\n       [186.62402, 342.14404],\n       [437.94443, 258.78534],\n       [422.     , 262.     ],\n       [598.     , 263.     ],\n       [374.     , 279.     ],\n       [195.6    , 345.6    ],\n       [229.20001, 324.     ],\n       [385.2    , 256.80002],\n       [579.60004, 254.40001],\n       [570.24005, 437.76   ],\n       [216.00002, 352.51202],\n       [654.91205, 393.98404],\n       [199.06563, 342.14404],\n       [561.3651 , 209.01894],\n       [413.     , 241.     ],\n       [601.2    , 256.80002],\n       [233.90213, 301.0868 ],\n       [597.     , 406.     ],\n       [387.6    , 260.40002],\n       [250.8    , 327.6    ],\n       [191.52   , 345.6    ],\n       [609.12   , 256.32   ],\n       [426.24002, 324.     ],\n       [437.18405, 259.2    ],\n       [357.69604, 323.13602],\n       [449.28003, 245.37602],\n       [237.     , 294.     ],\n       [680.     , 395.     ],\n       [597.60004, 403.2    ],\n       [228.96   , 322.56   ],\n       [181.44   , 289.44   ],\n       [247.     , 293.     ],\n       [379.2    , 280.80002],\n       [676.80005, 390.24002],\n       [186.62402, 343.87204],\n       [412.64645, 238.46404],\n       [244.85075, 286.65454],\n       [405.     , 264.     ],\n       [338.     , 224.     ],\n       [408.96002, 262.08002],\n       [380.16003, 278.20804],\n       [609.6385 , 255.05284],\n       [379.2    , 322.80002],\n       [580.60803, 214.27202],\n       [183.     , 290.     ],\n       [387.6    , 262.80002],\n       [180.40323, 288.23044],\n       [671.84656, 403.10794],\n       [632.03345, 258.78534],\n       [549.     , 266.     ],\n       [387.     , 260.     ],\n       [379.     , 323.     ],\n       [433.     , 324.     ],\n       [374.40002, 279.36002],\n       [599.616  , 336.96002],\n       [284.     , 239.     ],\n       [681.60004, 384.     ],\n       [187.20001, 344.16   ],\n       [387.     , 263.     ],\n       [597.     , 369.     ],\n       [237.6    , 293.76   ],\n       [198.72002, 342.14404],\n       [379.46884, 261.27365],\n       [634.52167, 259.20004],\n       [675.9937 , 393.98407],\n       [385.     , 257.     ],\n       [184.32   , 308.16   ],\n       [827.3665 , 333.84964],\n       [179.15909, 286.65454],\n       [639.     , 264.     ],\n       [635.04004, 259.2    ],\n       [190.77122, 344.21765],\n       [562.5596 , 207.82455],\n       [582.33606, 395.71204],\n       [653.93066, 325.47235],\n       [826.56006, 332.64   ],\n       [382.     , 279.     ],\n       [596.     , 258.     ],\n       [182.47682, 308.96643],\n       [569.7259 , 250.82272],\n       [807.84   , 227.52   ],\n       [573.3091 , 301.58447],\n       [599.     , 367.     ],\n       [602.     , 257.     ],\n       [636.     , 259.2    ],\n       [597.60004, 336.96002],\n       [851.     , 266.     ],\n       [679.3115 , 378.22473],\n       [743.     , 156.     ],\n       [682.     , 377.     ],\n       [596.4    , 344.40002],\n       [184.89601, 307.584  ],\n       [596.     , 347.     ],\n       [678.0673 , 387.76324],\n       [177.6    , 349.2    ],\n       [674.3349 , 393.15466],\n       [596.4    , 346.80002],\n       [630.0428 , 259.78067],\n       [681.     , 385.     ],\n       [630.64   , 257.9891 ],\n       [684.     , 377.     ],\n       [446.     , 295.     ],\n       [716.63635, 150.49364],\n       [213.6    , 352.80002],\n       [680.8321 , 376.70404],\n       [829.4401 , 294.45123],\n       [709.1714 , 161.74084],\n       [596.16003, 257.47202],\n       [696.3841 , 141.69601],\n       [ 82.94401, 482.11206],\n       [892.80005, 318.     ],\n       [893.     , 319.     ],\n       [112.     , 359.     ],\n       [696.96   , 142.56001],\n       [112.32001, 292.032  ],\n       [927.     , 348.     ],\n       [841.     , 333.     ],\n       [711.36005, 162.72   ],\n       [710.66437, 161.24318],\n       [ 66.     , 413.     ],\n       [680.8321 , 383.61603],\n       [599.     , 404.     ],\n       [681.12006, 384.48   ],\n       [518.4    , 221.76001],\n       [709.47003, 161.24318],\n       [ 39.     , 369.     ],\n       [696.7297 , 141.00482]], dtype=float32)"
     },
     "execution_count": 4,
     "metadata": {},
     "output_type": "execute_result"
    }
   ],
   "source": [
    "keypoints_arr[0]\n",
    "points1 = np.float32([keypoints_arr[0][m.queryIdx].pt for m in matches]).reshape(-1, 2)\n",
    "points1"
   ],
   "metadata": {
    "collapsed": false,
    "ExecuteTime": {
     "end_time": "2024-03-25T11:28:34.351534Z",
     "start_time": "2024-03-25T11:28:34.344203Z"
    }
   },
   "id": "12a8b6cb0e128836",
   "execution_count": 4
  },
  {
   "cell_type": "code",
   "outputs": [
    {
     "ename": "error",
     "evalue": "OpenCV(4.9.0) D:\\a\\opencv-python\\opencv-python\\opencv\\modules\\calib3d\\src\\solvepnp.cpp:227: error: (-215:Assertion failed) npoints >= 4 && npoints == std::max(ipoints.checkVector(2, CV_32F), ipoints.checkVector(2, CV_64F)) in function 'cv::solvePnPRansac'\n",
     "output_type": "error",
     "traceback": [
      "\u001B[1;31m---------------------------------------------------------------------------\u001B[0m",
      "\u001B[1;31merror\u001B[0m                                     Traceback (most recent call last)",
      "Cell \u001B[1;32mIn[5], line 1\u001B[0m\n\u001B[1;32m----> 1\u001B[0m rvec, tvec, inliers \u001B[38;5;241m=\u001B[39m \u001B[43mestimate_motion\u001B[49m\u001B[43m(\u001B[49m\u001B[43mmatches\u001B[49m\u001B[43m,\u001B[49m\u001B[43m \u001B[49m\u001B[43mkeypoints_arr\u001B[49m\u001B[43m[\u001B[49m\u001B[38;5;241;43m0\u001B[39;49m\u001B[43m]\u001B[49m\u001B[43m,\u001B[49m\u001B[43m \u001B[49m\u001B[43mkeypoints_arr\u001B[49m\u001B[43m[\u001B[49m\u001B[38;5;241;43m1\u001B[39;49m\u001B[43m]\u001B[49m\u001B[43m,\u001B[49m\u001B[43m \u001B[49m\u001B[43mcamera_matrix\u001B[49m\u001B[43m)\u001B[49m\n\u001B[0;32m      2\u001B[0m \u001B[38;5;28mprint\u001B[39m(rvec)\n\u001B[0;32m      3\u001B[0m \u001B[38;5;28mprint\u001B[39m(tvec)\n",
      "File \u001B[1;32m~\\OneDrive\\Документы\\RMTeam\\VisualOdometry\\src\\visual_odometry.py:68\u001B[0m, in \u001B[0;36mestimate_motion\u001B[1;34m(matches, keypoints1, keypoints2, camera_matrix)\u001B[0m\n\u001B[0;32m     65\u001B[0m points2 \u001B[38;5;241m=\u001B[39m np\u001B[38;5;241m.\u001B[39mfloat32([keypoints2[m\u001B[38;5;241m.\u001B[39mtrainIdx]\u001B[38;5;241m.\u001B[39mpt \u001B[38;5;28;01mfor\u001B[39;00m m \u001B[38;5;129;01min\u001B[39;00m matches])\n\u001B[0;32m     67\u001B[0m \u001B[38;5;66;03m# Оценка вращения и смещения между кадрами\u001B[39;00m\n\u001B[1;32m---> 68\u001B[0m _, rvec, tvec, inliers \u001B[38;5;241m=\u001B[39m \u001B[43mcv2\u001B[49m\u001B[38;5;241;43m.\u001B[39;49m\u001B[43msolvePnPRansac\u001B[49m\u001B[43m(\u001B[49m\u001B[43mpoints1\u001B[49m\u001B[43m,\u001B[49m\u001B[43m \u001B[49m\u001B[43mpoints2\u001B[49m\u001B[43m,\u001B[49m\u001B[43m \u001B[49m\u001B[43mcamera_matrix\u001B[49m\u001B[43m,\u001B[49m\u001B[43m \u001B[49m\u001B[38;5;28;43;01mNone\u001B[39;49;00m\u001B[43m)\u001B[49m\n\u001B[0;32m     70\u001B[0m \u001B[38;5;28;01mreturn\u001B[39;00m rvec, tvec\n",
      "\u001B[1;31merror\u001B[0m: OpenCV(4.9.0) D:\\a\\opencv-python\\opencv-python\\opencv\\modules\\calib3d\\src\\solvepnp.cpp:227: error: (-215:Assertion failed) npoints >= 4 && npoints == std::max(ipoints.checkVector(2, CV_32F), ipoints.checkVector(2, CV_64F)) in function 'cv::solvePnPRansac'\n"
     ]
    }
   ],
   "source": [
    "rvec, tvec, inliers = estimate_motion(matches, keypoints_arr[0], keypoints_arr[1], camera_matrix)\n",
    "print(rvec)\n",
    "print(tvec)\n",
    "print(inliers)"
   ],
   "metadata": {
    "collapsed": false,
    "ExecuteTime": {
     "end_time": "2024-03-25T11:28:38.980534Z",
     "start_time": "2024-03-25T11:28:38.448501Z"
    }
   },
   "id": "5446a6e156123fe4",
   "execution_count": 5
  }
 ],
 "metadata": {
  "kernelspec": {
   "display_name": "Python 3",
   "language": "python",
   "name": "python3"
  },
  "language_info": {
   "codemirror_mode": {
    "name": "ipython",
    "version": 2
   },
   "file_extension": ".py",
   "mimetype": "text/x-python",
   "name": "python",
   "nbconvert_exporter": "python",
   "pygments_lexer": "ipython2",
   "version": "2.7.6"
  }
 },
 "nbformat": 4,
 "nbformat_minor": 5
}
